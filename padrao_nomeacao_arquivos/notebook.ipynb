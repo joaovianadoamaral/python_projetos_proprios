{
 "cells": [
  {
   "cell_type": "code",
   "execution_count": 1,
   "metadata": {},
   "outputs": [],
   "source": [
    "class UNWANTED_TEXT:\n",
    "    DELETE = ''\n",
    "    special_characters = { # refatore isso de forma que não precise escrever todos à mão\n",
    "        'à' : 'a',\n",
    "        'á' : 'a',\n",
    "        'ã' : 'a',\n",
    "        'ó' : 'o',\n",
    "        'õ' : 'o',\n",
    "        'í' : 'i',\n",
    "        'é' : 'e',\n",
    "        'ê' : 'e',\n",
    "        'ú' : 'u', \n",
    "        'ç' : 'c',\n",
    "        \"`\" : DELETE,\n",
    "        '~' : DELETE,\n",
    "        '^' : DELETE,\n",
    "        '<' : DELETE,\n",
    "        '>' : DELETE,\n",
    "        '/' : DELETE,\n",
    "        '\\\\': DELETE,\n",
    "        '?' : DELETE,\n",
    "        '!' : DELETE,\n",
    "        '@' : DELETE,\n",
    "        '#' : DELETE,\n",
    "        '$' : DELETE,\n",
    "        '%' : DELETE,\n",
    "        '&' : DELETE,\n",
    "        '¨' : DELETE,\n",
    "        '*' : DELETE,\n",
    "        '[' : DELETE,\n",
    "        ']' : DELETE,\n",
    "        '(' : DELETE,\n",
    "        ')' : DELETE,\n",
    "        '{' : DELETE,\n",
    "        '}' : DELETE,\n",
    "        '.' : DELETE,\n",
    "        ',' : DELETE,\n",
    "        ';' : DELETE,\n",
    "        '-' : DELETE,\n",
    "        '_' : DELETE,\n",
    "        '+' : DELETE,\n",
    "        '=' : DELETE, \n",
    "    }\n",
    "    words = {\n",
    "        'apostila' : DELETE,\n",
    "    }"
   ]
  },
  {
   "cell_type": "code",
   "execution_count": 2,
   "metadata": {},
   "outputs": [],
   "source": [
    "def replace_text(text_lower:str) -> str:\n",
    "    for character in UNWANTED_TEXT.special_characters:\n",
    "        text_lower = text_lower.replace(character, UNWANTED_TEXT.special_characters[character])\n",
    "\n",
    "    for word in UNWANTED_TEXT.words:\n",
    "        text_lower = text_lower.replace(word, UNWANTED_TEXT.words[word])\n",
    "\n",
    "    return text_lower"
   ]
  },
  {
   "cell_type": "code",
   "execution_count": 3,
   "metadata": {},
   "outputs": [],
   "source": [
    "def join_text_with_caracter(text:str, caracter:str) -> str:\n",
    "    text_list = text.split()    \n",
    "    format_text = caracter.join(text_list)\n",
    "    \n",
    "    return format_text"
   ]
  },
  {
   "cell_type": "code",
   "execution_count": 5,
   "metadata": {},
   "outputs": [],
   "source": [
    "def format_file_name(text:str, add_id_prefix = True)-> str:\n",
    "    ID = '_X_'\n",
    "\n",
    "    text_lower = text.lower()\n",
    "    format_text_lower = replace_text(text_lower)\n",
    "\n",
    "    format_text_lower = join_text_with_caracter(format_text_lower, '_')\n",
    "\n",
    "    if add_id_prefix:\n",
    "        text = ID + format_text_lower\n",
    "    \n",
    "    if not add_id_prefix:\n",
    "        text =  format_text_lower\n",
    "\n",
    "    return text"
   ]
  },
  {
   "cell_type": "code",
   "execution_count": null,
   "metadata": {},
   "outputs": [],
   "source": [
    "TEXTO = 'Apostila - Gerenciamento e Escalonamento de Métodos Ágeis'\n",
    "\n",
    "text = format_file_name(TEXTO, add_id_prefix = True)\n",
    "print(text)"
   ]
  }
 ],
 "metadata": {
  "kernelspec": {
   "display_name": "Python 3",
   "language": "python",
   "name": "python3"
  },
  "language_info": {
   "codemirror_mode": {
    "name": "ipython",
    "version": 3
   },
   "file_extension": ".py",
   "mimetype": "text/x-python",
   "name": "python",
   "nbconvert_exporter": "python",
   "pygments_lexer": "ipython3",
   "version": "3.12.2"
  }
 },
 "nbformat": 4,
 "nbformat_minor": 2
}
